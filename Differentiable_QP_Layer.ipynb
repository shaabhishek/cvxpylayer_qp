{
  "nbformat": 4,
  "nbformat_minor": 0,
  "metadata": {
    "colab": {
      "provenance": [],
      "authorship_tag": "ABX9TyPmS987WW2WGSBXYqnptrsD",
      "include_colab_link": true
    },
    "kernelspec": {
      "name": "python3",
      "display_name": "Python 3"
    },
    "language_info": {
      "name": "python"
    }
  },
  "cells": [
    {
      "cell_type": "markdown",
      "metadata": {
        "id": "view-in-github",
        "colab_type": "text"
      },
      "source": [
        "<a href=\"https://colab.research.google.com/github/shaabhishek/cvxpylayer_qp/blob/main/Differentiable_QP_Layer.ipynb\" target=\"_parent\"><img src=\"https://colab.research.google.com/assets/colab-badge.svg\" alt=\"Open In Colab\"/></a>"
      ]
    },
    {
      "cell_type": "code",
      "source": [
        "!pip install cvxpylayers"
      ],
      "metadata": {
        "colab": {
          "base_uri": "https://localhost:8080/"
        },
        "id": "qXZt5TTXjqYw",
        "outputId": "17c5d4c6-fb24-407c-9d18-f78a8823a536"
      },
      "execution_count": 19,
      "outputs": [
        {
          "output_type": "stream",
          "name": "stdout",
          "text": [
            "Looking in indexes: https://pypi.org/simple, https://us-python.pkg.dev/colab-wheels/public/simple/\n",
            "Requirement already satisfied: cvxpylayers in /usr/local/lib/python3.8/dist-packages (0.1.5)\n",
            "Requirement already satisfied: diffcp>=1.0.13 in /usr/local/lib/python3.8/dist-packages (from cvxpylayers) (1.0.21)\n",
            "Requirement already satisfied: scipy>=1.1.0 in /usr/local/lib/python3.8/dist-packages (from cvxpylayers) (1.7.3)\n",
            "Requirement already satisfied: numpy>=1.15 in /usr/local/lib/python3.8/dist-packages (from cvxpylayers) (1.22.4)\n",
            "Requirement already satisfied: cvxpy>=1.1.0a4 in /usr/local/lib/python3.8/dist-packages (from cvxpylayers) (1.2.3)\n",
            "Requirement already satisfied: setuptools<=64.0.2 in /usr/local/lib/python3.8/dist-packages (from cvxpy>=1.1.0a4->cvxpylayers) (57.4.0)\n",
            "Requirement already satisfied: ecos>=2 in /usr/local/lib/python3.8/dist-packages (from cvxpy>=1.1.0a4->cvxpylayers) (2.0.12)\n",
            "Requirement already satisfied: osqp>=0.4.1 in /usr/local/lib/python3.8/dist-packages (from cvxpy>=1.1.0a4->cvxpylayers) (0.6.2.post0)\n",
            "Requirement already satisfied: scs>=1.1.6 in /usr/local/lib/python3.8/dist-packages (from cvxpy>=1.1.0a4->cvxpylayers) (3.2.2)\n",
            "Requirement already satisfied: threadpoolctl>=1.1 in /usr/local/lib/python3.8/dist-packages (from diffcp>=1.0.13->cvxpylayers) (3.1.0)\n",
            "Requirement already satisfied: pybind11>=2.4 in /usr/local/lib/python3.8/dist-packages (from diffcp>=1.0.13->cvxpylayers) (2.10.3)\n",
            "Requirement already satisfied: qdldl in /usr/local/lib/python3.8/dist-packages (from osqp>=0.4.1->cvxpy>=1.1.0a4->cvxpylayers) (0.1.5.post3)\n"
          ]
        }
      ]
    },
    {
      "cell_type": "code",
      "execution_count": 20,
      "metadata": {
        "id": "lMmPu_UsI9CI"
      },
      "outputs": [],
      "source": [
        "import numpy as np\n",
        "\n",
        "import scipy\n",
        "import cvxpy as cvx\n",
        "import jax\n",
        "jax.config.update(\"jax_enable_x64\", True)\n",
        "import jax.numpy as jnp\n",
        "from cvxpylayers.jax import CvxpyLayer"
      ]
    },
    {
      "cell_type": "code",
      "source": [
        "D = jnp.diag\n",
        "ccat = lambda x: jnp.concatenate(x, axis=1)\n",
        "rcat = lambda x: jnp.concatenate(x, axis=0)\n",
        "mv = lambda A,b: jnp.einsum(\"ij,j->i\", A, b)\n",
        "outer = jnp.outer\n",
        "\n",
        "def make_problem_cvxpy(n_vars, n_eq, n_ineq):\n",
        "    # Create a CVXPY problem.\n",
        "    z = cvx.Variable(n_vars)\n",
        "\n",
        "    L = cvx.Parameter((n_vars, n_vars))\n",
        "    c = cvx.Parameter((n_vars))\n",
        "    A = cvx.Parameter((n_eq, n_vars))\n",
        "    b = cvx.Parameter((n_eq))\n",
        "    G = cvx.Parameter((n_ineq, n_vars))\n",
        "    h = cvx.Parameter((n_ineq))\n",
        "\n",
        "    objective = cvx.Minimize( 0.5 * cvx.sum_squares(L @ z) + c @ z)\n",
        "    # objective = cvx.Minimize( c @ z)\n",
        "    constraints = [A @ z == b, G @ z <= h]\n",
        "    prob = cvx.Problem(objective, constraints)\n",
        "    assert prob.is_dpp()\n",
        "    return prob, z, constraints, [L, c, A, b, G, h]\n",
        "\n",
        "def make_problem_cvxpy_batch(n_vars, n_eq, n_ineq, n_batch):\n",
        "    # Create a CVXPY problem.\n",
        "    z = cvx.Variable((n_batch, n_vars))\n",
        "\n",
        "    L = cvx.Parameter((n_batch, n_vars, n_vars))\n",
        "    c = cvx.Parameter((n_batch, n_vars))\n",
        "    A = cvx.Parameter((n_batch, n_eq, n_vars))\n",
        "    b = cvx.Parameter((n_batch, n_eq))\n",
        "    G = cvx.Parameter((n_batch, n_ineq, n_vars))\n",
        "    h = cvx.Parameter((n_batch, n_ineq))\n",
        "\n",
        "    # objective = cvx.Minimize( 0.5 * cvx.sum_squares(L @ z) + c @ z)\n",
        "    cost = 0\n",
        "    for i in range(n_batch):\n",
        "        cost += 0.5 * cvx.sum_squares(L[i] @ z[i]) + c[i] @ z[i]\n",
        "    objective = cvx.Minimize(cost)\n",
        "\n",
        "    constraints = []\n",
        "    for i in range(n_batch):\n",
        "        constraints.append(A[i] @ z[i] == b[i])\n",
        "\n",
        "    for i in range(n_batch):\n",
        "        constraints.append(G[i] @ z[i] <= h[i])\n",
        "\n",
        "    prob = cvx.Problem(objective, constraints)\n",
        "    assert prob.is_dpp()\n",
        "    return prob, z, constraints, [L, c, A, b, G, h]\n",
        "\n",
        "def solve_problem_cvxpy(prob, x, constraints, params, data):\n",
        "    for p, d in zip(params, data):\n",
        "        p.value = np.array(d)\n",
        "\n",
        "    prob.solve(solver=cvx.SCS, verbose=False, warm_start=False, eps=1e-6)\n",
        "    return x.value, constraints[0].dual_value, constraints[1].dual_value\n",
        "\n",
        "def make_problem_cvxpylayer(prob, x, params):\n",
        "    cvxpylayer = CvxpyLayer(prob, parameters=params, variables=[x])\n",
        "    return cvxpylayer\n",
        "\n",
        "def solve_problem_cvxpylayer(cvxpylayer, data):\n",
        "    return cvxpylayer(*data, solver_args={\"eps\": 1e-6})\n",
        "\n",
        "@jax.jit\n",
        "def compute_grads_manual(z_star, nu_star, lambda_star, data, grad_l):\n",
        "    (L, c, A, b, G, h) = data\n",
        "    Q = L @ L.T\n",
        "    \n",
        "    M = rcat(\n",
        "        [\n",
        "            ccat([Q, G.T, A.T]),\n",
        "            ccat([D(lambda_star)@G, D(mv(G, z_star) - h), jnp.zeros((n_ineq,n_eq))]),\n",
        "            ccat([A, jnp.zeros((n_eq,n_ineq)), jnp.zeros((n_eq,n_eq))])\n",
        "            ])\n",
        "    \n",
        "    assert M.shape == (n_vars+n_eq+n_ineq, n_vars+n_eq+n_ineq)\n",
        "\n",
        "    eq_37 = -jnp.linalg.solve( M.T, grad_l )\n",
        "    d_z, d_lambda, d_nu = eq_37[:n_vars], eq_37[n_vars:n_vars+n_ineq], eq_37[n_vars+n_ineq:]\n",
        "    \n",
        "    grad_L = L @ (outer(d_z, z_star) + outer(z_star, d_z))\n",
        "    grad_c = d_z\n",
        "    grad_A = outer(d_nu, z_star) + outer(nu_star, d_z)\n",
        "    grad_b = -d_nu\n",
        "    grad_G = outer(lambda_star, d_z) + D(lambda_star) @ outer(d_lambda, z_star)\n",
        "    grad_h = -mv(D(lambda_star), d_lambda)\n",
        "    return grad_L, grad_c, grad_A, grad_b, grad_G, grad_h\n"
      ],
      "metadata": {
        "id": "oR8bxc98NIOS"
      },
      "execution_count": 204,
      "outputs": []
    },
    {
      "cell_type": "code",
      "source": [
        "def get_data(n_vars, n_eq, n_ineq):\n",
        "    Q = np.random.randn(n_vars, n_vars)\n",
        "    # Q = np.zeros((n_vars, n_vars))\n",
        "    Q = Q@Q.T\n",
        "    assert np.all(np.linalg.eigvals(Q) >= 0)\n",
        "\n",
        "    # L = np.linalg.cholesky(Q)\n",
        "    L = scipy.linalg.sqrtm(Q)\n",
        "    assert np.allclose(Q, L@L.T)\n",
        "    c = np.random.randn(n_vars)\n",
        "    A = np.random.randn(n_eq, n_vars)\n",
        "    b = np.random.randn(n_eq)\n",
        "    # G = np.random.randn(n_ineq, n_vars)\n",
        "    # h = np.random.randn(n_ineq)\n",
        "\n",
        "    G = np.eye(n_vars)\n",
        "    h = np.zeros(n_vars)\n",
        "    return (L, c, A, b, G, h)\n",
        "\n",
        "def get_data_batch(n_vars, n_eq, n_ineq, n_batch):\n",
        "    Q = np.random.randn(n_batch, n_vars, n_vars)\n",
        "    Q = np.einsum(\"bij,bkj->bik\", Q, Q)\n",
        "    assert np.all(np.linalg.eigvals(Q[0]) >= 0)\n",
        "    L = np.stack([scipy.linalg.sqrtm(_Q) for _Q in Q], axis=0)\n",
        "\n",
        "    c = np.random.randn(n_batch, n_vars)\n",
        "    A = np.random.randn(n_batch, n_eq, n_vars)\n",
        "    b = np.random.randn(n_batch, n_eq)\n",
        "    # G = np.random.randn(n_batch, n_ineq, n_vars)\n",
        "    # h = np.random.randn(n_batch, n_ineq)\n",
        "\n",
        "    G = np.stack([np.eye(n_vars) for _ in range(n_batch)], axis=0)\n",
        "    h = np.zeros((n_batch, n_vars))\n",
        "\n",
        "    return (L, c, A, b, G, h)\n",
        "\n",
        "\n",
        "def l_cvxpylayer(data, prob, x, params):\n",
        "    cvxpylayer = make_problem_cvxpylayer(prob, x, params)\n",
        "    z_star_layer, = solve_problem_cvxpylayer(cvxpylayer, data)\n",
        "    return jnp.sum(z_star_layer), z_star_layer\n",
        "\n",
        "def l_manual(data, prob, x, constraints, params):\n",
        "    z_star, nu_star, lambda_star = solve_problem_cvxpy(prob, x, constraints, params, data)\n",
        "    # print(z_star, nu_star, lambda_star)\n",
        "    # print(lambda_star)\n",
        "    grad_l = jnp.concatenate([jnp.ones_like(z_star), jnp.zeros_like(lambda_star), jnp.zeros_like(nu_star)])\n",
        "    grads_manual = compute_grads_manual(z_star, nu_star, lambda_star, data, grad_l)\n",
        "    l = z_star.sum()\n",
        "    return (l, z_star), grads_manual\n",
        "\n",
        "\n",
        "n_vars = 50\n",
        "n_eq = 1\n",
        "n_ineq = n_vars\n",
        "data = get_data(n_vars, n_eq, n_ineq)\n",
        "data_batch = get_data_batch(n_vars, n_eq, n_ineq, 20)\n",
        "prob, x, constraints, params = make_problem_cvxpy(n_vars, n_eq, n_ineq)\n",
        "\n",
        "l_cvxpylayer_value_and_grad = jax.value_and_grad(l_cvxpylayer, has_aux=True)\n",
        "(_, z_star_layer), grads_cvxpylayers = l_cvxpylayer_value_and_grad(data, prob, x, params)\n",
        "(_, z_star), grads_manual = l_manual(data, prob, x, constraints, params)\n",
        "# l_cvxpylayer_value_and_grad(data_batch, prob, x, params)\n",
        "assert np.allclose(z_star, z_star_layer, atol=1e-3), np.sum(np.abs(z_star - z_star_layer))"
      ],
      "metadata": {
        "id": "9VKL7HtBJDYa"
      },
      "execution_count": 233,
      "outputs": []
    },
    {
      "cell_type": "code",
      "source": [
        "%time (_, z_star), grads_manual = l_manual(data, prob, x, constraints, params)\n",
        "%time (_, z_star_layer), grads_cvxpylayers = l_cvxpylayer_value_and_grad(data, prob, x, params)\n",
        "%timeit -n 5 [l_manual(_data, prob, x, constraints, params) for _data in zip(*data_batch)]\n",
        "%timeit -n 5 (_, z_star_layer), grads_cvxpylayers = l_cvxpylayer_value_and_grad(data_batch, prob, x, params)"
      ],
      "metadata": {
        "colab": {
          "base_uri": "https://localhost:8080/"
        },
        "id": "NNILF12KsuHJ",
        "outputId": "f2693aa2-164a-4ce0-c78d-c8db95a677aa"
      },
      "execution_count": 236,
      "outputs": [
        {
          "output_type": "stream",
          "name": "stdout",
          "text": [
            "CPU times: user 18.8 ms, sys: 1.15 ms, total: 20 ms\n",
            "Wall time: 23.5 ms\n",
            "CPU times: user 64.2 ms, sys: 52.9 ms, total: 117 ms\n",
            "Wall time: 58.6 ms\n",
            "549 ms ± 70.7 ms per loop (mean ± std. dev. of 7 runs, 5 loops each)\n",
            "619 ms ± 174 ms per loop (mean ± std. dev. of 7 runs, 5 loops each)\n"
          ]
        }
      ]
    },
    {
      "cell_type": "code",
      "source": [
        "from functools import lru_cache\n",
        "# Test gradients\n",
        "eps = 1e-2\n",
        "\n",
        "def f_c(_c):\n",
        "    (L, c, A, b, G, h) = data\n",
        "    data_new = (L, _c, A, b, G, h)\n",
        "    return l_manual(data_new, prob, x, constraints, params)[0][0]\n",
        "\n",
        "def f_b(_b):\n",
        "    (L, c, A, b, G, h) = data\n",
        "    data_new = (L, c, A, _b, G, h)\n",
        "    return l_manual(data_new, prob, x, constraints, params)[0][0]\n",
        "\n",
        "def f_h(_h):\n",
        "    (L, c, A, b, G, h) = data\n",
        "    data_new = (L, c, A, b, G, _h)\n",
        "    return l_manual(data_new, prob, x, constraints, params)[0][0]\n",
        "\n",
        "def f_G(_G):\n",
        "    (L, c, A, b, G, h) = data\n",
        "    data_new = (L, c, A, b, _G, h)\n",
        "    return l_manual(data_new, prob, x, constraints, params)[0][0]\n",
        "\n",
        "# print(grads_manual[1].round(3))\n",
        "# print(grads_cvxpylayers[1].round(3))\n",
        "# print(np.array([((f_c(data[1]+h_c) - f_c(data[1]-h_c)) / (2*h_c + 1e-6))[i] for i, h_c in enumerate(np.eye(n_vars)*eps)]).round(3))\n",
        "# print()\n",
        "\n",
        "# print(grads_manual[3].round(3))\n",
        "# print(grads_cvxpylayers[3].round(3))\n",
        "# print(np.array([((f_b(data[3]+h_b) - f_b(data[3]-h_b)) / (2*h_b + 1e-10))[i] for i, h_b in enumerate(np.eye(n_eq)*eps)]).round(3))\n",
        "# print()\n",
        "\n",
        "# print(grads_manual[5].round(3))\n",
        "# print(grads_cvxpylayers[5].round(3))\n",
        "# print(np.array([((f_h(data[5]+h_h) - f_h(data[5]-h_h)) / (2*h_h + 1e-10))[i] for i, h_h in enumerate(np.eye(n_ineq)*eps)]).round(3))\n",
        "\n",
        "# G\n",
        "i = 3\n",
        "print(grads_manual[4][i].round(3))\n",
        "print(grads_cvxpylayers[4][i].round(3))\n",
        "\n",
        "@lru_cache(maxsize=n_vars*n_ineq)\n",
        "def make_h_G(i,j):\n",
        "    h_G = np.zeros_like(data[4])\n",
        "    h_G[i,j]+=eps\n",
        "    return h_G\n",
        "\n",
        "row = [((f_G(data[4]+make_h_G(i,j)) - f_G(data[4]-make_h_G(i,j))) / (2*make_h_G(i,j) + 1e-10))[i,j] for j in range(data[4].shape[1])]\n",
        "print(np.array(row).round(3))"
      ],
      "metadata": {
        "colab": {
          "base_uri": "https://localhost:8080/"
        },
        "id": "-UoZDEm6tLbk",
        "outputId": "51306904-384b-4095-e0a3-5018fb5a095a"
      },
      "execution_count": 237,
      "outputs": [
        {
          "output_type": "stream",
          "name": "stdout",
          "text": [
            "[ 0.    -0.     0.    -0.    -0.015  0.     0.031 -0.222 -0.306 -0.139\n",
            " -0.    -0.     0.    -0.119 -0.345 -0.289 -0.173 -0.26  -0.142  0.\n",
            "  0.    -0.    -0.    -0.     0.    -0.    -0.     0.    -0.    -0.21\n",
            "  0.     0.    -0.435 -0.23   0.    -0.121  0.     0.    -0.416 -0.\n",
            " -0.054 -0.     0.    -0.279  0.    -0.151 -0.277 -0.127  0.01   0.   ]\n",
            "[-0.05   0.049  0.023  0.027  0.017  0.037  0.05  -0.245 -0.394 -0.201\n",
            "  0.007  0.016  0.045 -0.119 -0.402 -0.231 -0.195 -0.266 -0.092 -0.073\n",
            "  0.039  0.01   0.039 -0.018  0.009 -0.1    0.06  -0.092 -0.048 -0.21\n",
            "  0.037 -0.045 -0.527 -0.22   0.009 -0.026 -0.021 -0.006 -0.422  0.053\n",
            "  0.046 -0.003  0.025 -0.37  -0.047 -0.218 -0.28  -0.198 -0.038 -0.015]\n",
            "[-0.    -0.     0.     0.    -0.015 -0.     0.031 -0.222 -0.306 -0.139\n",
            " -0.    -0.     0.    -0.119 -0.345 -0.289 -0.173 -0.259 -0.142  0.\n",
            "  0.     0.    -0.006 -0.    -0.    -0.     0.    -0.    -0.    -0.21\n",
            " -0.    -0.    -0.435 -0.23  -0.    -0.121 -0.    -0.    -0.416  0.\n",
            " -0.054 -0.    -0.    -0.279  0.    -0.151 -0.278 -0.127  0.01   0.   ]\n"
          ]
        }
      ]
    },
    {
      "cell_type": "code",
      "source": [
        "print(z_star)\n",
        "print(z_star_layer)"
      ],
      "metadata": {
        "colab": {
          "base_uri": "https://localhost:8080/"
        },
        "id": "oBUbdN4vSzq5",
        "outputId": "5901d8b4-d71d-409f-a1fb-30468d5680df"
      },
      "execution_count": 218,
      "outputs": [
        {
          "output_type": "stream",
          "name": "stdout",
          "text": [
            "[ 1.62172195e-11  5.52643494e-12 -7.75841854e-02 -7.80358178e-02\n",
            " -9.38404829e-02]\n",
            "[ 1.62171808e-11  5.52639232e-12 -7.75841854e-02 -7.80358178e-02\n",
            " -9.38404829e-02]\n"
          ]
        }
      ]
    },
    {
      "cell_type": "code",
      "source": [
        "print([g.shape for g in grads_manual])\n",
        "print([g.shape for g in grads_cvxpylayers])\n",
        "print(*[g.round(4) for g in grads_manual], sep='\\n')\n",
        "print()\n",
        "print(*[g.round(4) for g in grads_cvxpylayers], sep='\\n')\n",
        "\n",
        "print(*[np.sum(g1-g2) for g1,g2 in zip(grads_manual, grads_cvxpylayers)], sep='\\n')"
      ],
      "metadata": {
        "colab": {
          "base_uri": "https://localhost:8080/"
        },
        "id": "6hgniumQpR2x",
        "outputId": "b75d4b9d-8272-4ecb-d849-23a37638930e"
      },
      "execution_count": 219,
      "outputs": [
        {
          "output_type": "stream",
          "name": "stdout",
          "text": [
            "[(5, 5), (5,), (1, 5), (1,), (5, 5), (5,)]\n",
            "[(5, 5), (5,), (1, 5), (1,), (5, 5), (5,)]\n",
            "[[ 0.      0.     -0.0007 -0.0038 -0.0014]\n",
            " [-0.     -0.     -0.0022  0.0053 -0.0013]\n",
            " [-0.     -0.     -0.0038  0.0022 -0.0035]\n",
            " [-0.     -0.      0.004   0.0111  0.0061]\n",
            " [-0.     -0.     -0.0028  0.0008 -0.0027]]\n",
            "[ 0.      0.      0.0139 -0.0304  0.0086]\n",
            "[[ 0.     -0.     -0.0746 -0.0427 -0.0842]]\n",
            "[-0.831]\n",
            "[[-0.      0.      0.1721  0.098   0.1944]\n",
            " [-0.      0.      0.1522  0.1281  0.1795]\n",
            " [ 0.      0.      0.      0.      0.    ]\n",
            " [ 0.      0.      0.      0.      0.    ]\n",
            " [ 0.      0.      0.      0.      0.    ]]\n",
            "[ 1.9157  1.8614 -0.     -0.     -0.    ]\n",
            "\n",
            "[[ 0.      0.     -0.0007 -0.0038 -0.0014]\n",
            " [-0.     -0.     -0.0022  0.0053 -0.0013]\n",
            " [-0.     -0.     -0.0038  0.0022 -0.0035]\n",
            " [-0.     -0.      0.004   0.0111  0.0061]\n",
            " [-0.     -0.     -0.0028  0.0008 -0.0027]]\n",
            "[ 0.      0.      0.0139 -0.0304  0.0086]\n",
            "[[-0.     -0.     -0.0746 -0.0427 -0.0842]]\n",
            "[-0.831]\n",
            "[[ 0.      0.      0.1721  0.098   0.1944]\n",
            " [ 0.      0.      0.1522  0.1281  0.1795]\n",
            " [ 0.      0.     -0.     -0.     -0.    ]\n",
            " [-0.     -0.      0.      0.      0.    ]\n",
            " [ 0.      0.     -0.     -0.     -0.    ]]\n",
            "[ 1.9157  1.8614 -0.      0.     -0.    ]\n",
            "-5.037239342978768e-09\n",
            "2.3616955085403514e-08\n",
            "-1.7622360498207514e-08\n",
            "-1.845329111738181e-09\n",
            "5.504992135682545e-08\n",
            "6.96191432851327e-09\n"
          ]
        }
      ]
    },
    {
      "cell_type": "code",
      "source": [],
      "metadata": {
        "id": "W3CWd7zSVIEt"
      },
      "execution_count": 219,
      "outputs": []
    }
  ]
}