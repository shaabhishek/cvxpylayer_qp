{
  "nbformat": 4,
  "nbformat_minor": 0,
  "metadata": {
    "colab": {
      "provenance": [],
      "authorship_tag": "ABX9TyOmyOcKJX+BNgwYyzglmm6w",
      "include_colab_link": true
    },
    "kernelspec": {
      "name": "python3",
      "display_name": "Python 3"
    },
    "language_info": {
      "name": "python"
    }
  },
  "cells": [
    {
      "cell_type": "markdown",
      "metadata": {
        "id": "view-in-github",
        "colab_type": "text"
      },
      "source": [
        "<a href=\"https://colab.research.google.com/github/shaabhishek/cvxpylayer_qp/blob/main/Differentiable_QP_Layer.ipynb\" target=\"_parent\"><img src=\"https://colab.research.google.com/assets/colab-badge.svg\" alt=\"Open In Colab\"/></a>"
      ]
    },
    {
      "cell_type": "code",
      "source": [
        "!pip install cvxpylayers\n",
        "!pip install jaxopt"
      ],
      "metadata": {
        "colab": {
          "base_uri": "https://localhost:8080/"
        },
        "id": "qXZt5TTXjqYw",
        "outputId": "686d4fcb-ca15-4be8-880b-013ee1715d2f"
      },
      "execution_count": 1,
      "outputs": [
        {
          "output_type": "stream",
          "name": "stdout",
          "text": [
            "Looking in indexes: https://pypi.org/simple, https://us-python.pkg.dev/colab-wheels/public/simple/\n",
            "Requirement already satisfied: cvxpylayers in /usr/local/lib/python3.8/dist-packages (0.1.5)\n",
            "Requirement already satisfied: scipy>=1.1.0 in /usr/local/lib/python3.8/dist-packages (from cvxpylayers) (1.10.1)\n",
            "Requirement already satisfied: cvxpy>=1.1.0a4 in /usr/local/lib/python3.8/dist-packages (from cvxpylayers) (1.2.3)\n",
            "Requirement already satisfied: numpy>=1.15 in /usr/local/lib/python3.8/dist-packages (from cvxpylayers) (1.22.4)\n",
            "Requirement already satisfied: diffcp>=1.0.13 in /usr/local/lib/python3.8/dist-packages (from cvxpylayers) (1.0.21)\n",
            "Requirement already satisfied: setuptools<=64.0.2 in /usr/local/lib/python3.8/dist-packages (from cvxpy>=1.1.0a4->cvxpylayers) (57.4.0)\n",
            "Requirement already satisfied: ecos>=2 in /usr/local/lib/python3.8/dist-packages (from cvxpy>=1.1.0a4->cvxpylayers) (2.0.12)\n",
            "Requirement already satisfied: scs>=1.1.6 in /usr/local/lib/python3.8/dist-packages (from cvxpy>=1.1.0a4->cvxpylayers) (3.2.2)\n",
            "Requirement already satisfied: osqp>=0.4.1 in /usr/local/lib/python3.8/dist-packages (from cvxpy>=1.1.0a4->cvxpylayers) (0.6.2.post0)\n",
            "Requirement already satisfied: pybind11>=2.4 in /usr/local/lib/python3.8/dist-packages (from diffcp>=1.0.13->cvxpylayers) (2.10.3)\n",
            "Requirement already satisfied: threadpoolctl>=1.1 in /usr/local/lib/python3.8/dist-packages (from diffcp>=1.0.13->cvxpylayers) (3.1.0)\n",
            "Requirement already satisfied: qdldl in /usr/local/lib/python3.8/dist-packages (from osqp>=0.4.1->cvxpy>=1.1.0a4->cvxpylayers) (0.1.5.post3)\n",
            "Looking in indexes: https://pypi.org/simple, https://us-python.pkg.dev/colab-wheels/public/simple/\n",
            "Requirement already satisfied: jaxopt in /usr/local/lib/python3.8/dist-packages (0.6)\n",
            "Requirement already satisfied: jaxlib>=0.1.69 in /usr/local/lib/python3.8/dist-packages (from jaxopt) (0.4.4+cuda11.cudnn82)\n",
            "Requirement already satisfied: absl-py>=0.7.0 in /usr/local/lib/python3.8/dist-packages (from jaxopt) (1.4.0)\n",
            "Requirement already satisfied: matplotlib>=2.0.1 in /usr/local/lib/python3.8/dist-packages (from jaxopt) (3.5.3)\n",
            "Requirement already satisfied: scipy>=1.0.0 in /usr/local/lib/python3.8/dist-packages (from jaxopt) (1.10.1)\n",
            "Requirement already satisfied: numpy>=1.18.4 in /usr/local/lib/python3.8/dist-packages (from jaxopt) (1.22.4)\n",
            "Requirement already satisfied: jax>=0.2.18 in /usr/local/lib/python3.8/dist-packages (from jaxopt) (0.4.4)\n",
            "Requirement already satisfied: opt-einsum in /usr/local/lib/python3.8/dist-packages (from jax>=0.2.18->jaxopt) (3.3.0)\n",
            "Requirement already satisfied: python-dateutil>=2.7 in /usr/local/lib/python3.8/dist-packages (from matplotlib>=2.0.1->jaxopt) (2.8.2)\n",
            "Requirement already satisfied: kiwisolver>=1.0.1 in /usr/local/lib/python3.8/dist-packages (from matplotlib>=2.0.1->jaxopt) (1.4.4)\n",
            "Requirement already satisfied: pillow>=6.2.0 in /usr/local/lib/python3.8/dist-packages (from matplotlib>=2.0.1->jaxopt) (8.4.0)\n",
            "Requirement already satisfied: pyparsing>=2.2.1 in /usr/local/lib/python3.8/dist-packages (from matplotlib>=2.0.1->jaxopt) (3.0.9)\n",
            "Requirement already satisfied: cycler>=0.10 in /usr/local/lib/python3.8/dist-packages (from matplotlib>=2.0.1->jaxopt) (0.11.0)\n",
            "Requirement already satisfied: fonttools>=4.22.0 in /usr/local/lib/python3.8/dist-packages (from matplotlib>=2.0.1->jaxopt) (4.38.0)\n",
            "Requirement already satisfied: packaging>=20.0 in /usr/local/lib/python3.8/dist-packages (from matplotlib>=2.0.1->jaxopt) (23.0)\n",
            "Requirement already satisfied: six>=1.5 in /usr/local/lib/python3.8/dist-packages (from python-dateutil>=2.7->matplotlib>=2.0.1->jaxopt) (1.15.0)\n"
          ]
        }
      ]
    },
    {
      "cell_type": "code",
      "execution_count": 2,
      "metadata": {
        "id": "lMmPu_UsI9CI"
      },
      "outputs": [],
      "source": [
        "from functools import partial, lru_cache\n",
        "import numpy as np\n",
        "\n",
        "import scipy\n",
        "import cvxpy as cvx\n",
        "import jax\n",
        "jax.config.update(\"jax_enable_x64\", True)\n",
        "import jaxopt\n",
        "import jax.numpy as jnp\n",
        "from cvxpylayers.jax import CvxpyLayer"
      ]
    },
    {
      "cell_type": "code",
      "source": [
        "D = jnp.diag\n",
        "ccat = lambda x: jnp.concatenate(x, axis=1)\n",
        "rcat = lambda x: jnp.concatenate(x, axis=0)\n",
        "mv = lambda A,b: jnp.einsum(\"ij,j->i\", A, b)\n",
        "outer = jnp.outer\n",
        "\n",
        "@lru_cache\n",
        "def make_problem_cvxpy(n_vars, n_eq, n_ineq):\n",
        "    # Create a CVXPY problem.\n",
        "    z = cvx.Variable(n_vars)\n",
        "\n",
        "    L = cvx.Parameter((n_vars, n_vars))\n",
        "    c = cvx.Parameter((n_vars))\n",
        "    A = cvx.Parameter((n_eq, n_vars))\n",
        "    b = cvx.Parameter((n_eq))\n",
        "    G = cvx.Parameter((n_ineq, n_vars))\n",
        "    h = cvx.Parameter((n_ineq))\n",
        "\n",
        "    objective = cvx.Minimize( 0.5 * cvx.sum_squares(L @ z) + c @ z)\n",
        "    # objective = cvx.Minimize( c @ z)\n",
        "    constraints = [A @ z == b, G @ z <= h]\n",
        "    prob = cvx.Problem(objective, constraints)\n",
        "    assert prob.is_dpp()\n",
        "    return prob, z, constraints, [L, c, A, b, G, h]\n",
        "\n",
        "\n",
        "def solve_problem_cvxpy(prob, x, constraints, params, data):\n",
        "    for p, d in zip(params, data):\n",
        "        p.value = np.array(d)\n",
        "\n",
        "    prob.solve(solver=cvx.SCS, verbose=False, warm_start=True, eps=1e-6)\n",
        "    return x.value, constraints[0].dual_value, constraints[1].dual_value\n",
        "\n",
        "def make_problem_cvxpylayer(prob, x, params):\n",
        "    cvxpylayer = CvxpyLayer(prob, parameters=params, variables=[x])\n",
        "    return cvxpylayer\n",
        "\n",
        "def solve_problem_cvxpylayer(cvxpylayer, data):\n",
        "    return cvxpylayer(*data, solver_args={\"eps\": 1e-6})\n",
        "\n",
        "def solve_problem_jaxopt(osqpsolver, data):\n",
        "    sol = osqpsolver(params_obj=(np.linalg.matrix_power(data[0],2), data[1]), params_eq=(data[2], data[3]), params_ineq=(data[4], data[5])).params\n",
        "    return sol\n",
        "    \n",
        "@jax.jit\n",
        "def compute_grads_manual(z_star, nu_star, lambda_star, data, grad_l):\n",
        "    (L, c, A, b, G, h) = data\n",
        "    Q = L @ L.T\n",
        "    \n",
        "    M = rcat(\n",
        "        [\n",
        "            ccat([Q, G.T, A.T]),\n",
        "            ccat([D(lambda_star)@G, D(mv(G, z_star) - h), jnp.zeros((n_ineq,n_eq))]),\n",
        "            ccat([A, jnp.zeros((n_eq,n_ineq)), jnp.zeros((n_eq,n_eq))])\n",
        "            ])\n",
        "    \n",
        "    assert M.shape == (n_vars+n_eq+n_ineq, n_vars+n_eq+n_ineq)\n",
        "\n",
        "    eq_37 = -jnp.linalg.solve( M.T, grad_l )\n",
        "    d_z, d_lambda, d_nu = eq_37[:n_vars], eq_37[n_vars:n_vars+n_ineq], eq_37[n_vars+n_ineq:]\n",
        "    \n",
        "    grad_L = L @ (outer(d_z, z_star) + outer(z_star, d_z))\n",
        "    grad_c = d_z\n",
        "    grad_A = outer(d_nu, z_star) + outer(nu_star, d_z)\n",
        "    grad_b = -d_nu\n",
        "    grad_G = outer(lambda_star, d_z) + D(lambda_star) @ outer(d_lambda, z_star)\n",
        "    grad_h = -mv(D(lambda_star), d_lambda)\n",
        "    return grad_L, grad_c, grad_A, grad_b, grad_G, grad_h\n"
      ],
      "metadata": {
        "id": "oR8bxc98NIOS"
      },
      "execution_count": 3,
      "outputs": []
    },
    {
      "cell_type": "code",
      "source": [
        "@lru_cache\n",
        "def make_problem_cvxpy_batch(n_vars, n_eq, n_ineq, n_batch):\n",
        "    # Create a CVXPY problem.\n",
        "    z = [cvx.Variable(n_vars) for _ in range(n_batch)]\n",
        "\n",
        "    L = [cvx.Parameter((n_vars, n_vars)) for _ in range(n_batch)]\n",
        "    c = [cvx.Parameter((n_vars)) for _ in range(n_batch)]\n",
        "    A = [cvx.Parameter((n_eq, n_vars)) for _ in range(n_batch)]\n",
        "    b = [cvx.Parameter((n_eq)) for _ in range(n_batch)]\n",
        "    G = [cvx.Parameter((n_ineq, n_vars)) for _ in range(n_batch)]\n",
        "    h = [cvx.Parameter((n_ineq)) for _ in range(n_batch)]\n",
        "\n",
        "    # objective = cvx.Minimize( 0.5 * cvx.sum_squares(L @ z) + c @ z)\n",
        "    cost = 0\n",
        "    for i in range(n_batch):\n",
        "        cost += 0.5 * cvx.sum_squares(L[i] @ z[i]) + c[i] @ z[i]\n",
        "    objective = cvx.Minimize(cost)\n",
        "\n",
        "    eq_constraints = []\n",
        "    for i in range(n_batch):\n",
        "        eq_constraints.append(A[i] @ z[i] == b[i])\n",
        "\n",
        "    ineq_constraints = []\n",
        "    for i in range(n_batch):\n",
        "        ineq_constraints.append(G[i] @ z[i] <= h[i])\n",
        "\n",
        "    prob = cvx.Problem(objective, eq_constraints+ineq_constraints)\n",
        "    assert prob.is_dpp()\n",
        "    return prob, z, (eq_constraints, ineq_constraints), [L, c, A, b, G, h]\n",
        "\n",
        "\n",
        "def solve_problem_cvxpy_batch(prob, x, constraints, params, data):\n",
        "    for p, d in zip(params, data):\n",
        "        for p_b, d_b in zip(p, d):\n",
        "            p_b.value = np.array(d_b)\n",
        "\n",
        "    # prob.solve(solver=cvx.SCS, verbose=False, warm_start=True, eps=1e-6)\n",
        "    prob.solve(solver=cvx.ECOS, verbose=False, warm_start=True)\n",
        "    z_star = np.stack([_x.value for _x in x])\n",
        "    eq_constraints, ineq_constraints = constraints\n",
        "    nu_star = np.stack([_c.dual_value for _c in eq_constraints])\n",
        "    lambda_star = np.stack([_c.dual_value for _c in ineq_constraints])\n",
        "    return z_star, nu_star, lambda_star\n"
      ],
      "metadata": {
        "id": "0DmmLbHukO07"
      },
      "execution_count": 4,
      "outputs": []
    },
    {
      "cell_type": "code",
      "source": [
        "# As a jax custom_vjp\n",
        "@partial(jax.custom_vjp, nondiff_argnums=(1,))\n",
        "def solve_QP_cvxpy(data, problem_params):\n",
        "    prob, x, constraints, params = problem_params\n",
        "    z_star, nu_star, lambda_star = solve_problem_cvxpy(prob, x, constraints, params, data)\n",
        "    return z_star\n",
        "\n",
        "def f_fwd_cvxpy(data, problem_params):\n",
        "    prob, x, constraints, params = problem_params\n",
        "    (z_star, nu_star, lambda_star) = solve_problem_cvxpy(prob, x, constraints, params, data)\n",
        "    return z_star, (z_star, nu_star, lambda_star, data)\n",
        "\n",
        "@partial(jax.custom_vjp, nondiff_argnums=(1,))\n",
        "def solve_QP_jaxopt(data, problem_params):\n",
        "    # prob, x, constraints, params = problem_params\n",
        "    # z_star, nu_star, lambda_star = solve_problem_cvxpy(prob, x, constraints, params, data)\n",
        "    sol = solve_problem_jaxopt(problem_params, data)\n",
        "    z_star, nu_star, lambda_star = sol.primal, sol.dual_eq, sol.dual_ineq\n",
        "    return z_star\n",
        "\n",
        "def f_fwd_jaxopt(data, problem_params):\n",
        "    # prob, x, constraints, params = problem_params\n",
        "    # (z_star, nu_star, lambda_star) = solve_problem_cvxpy(prob, x, constraints, params, data)\n",
        "    sol = solve_problem_jaxopt(problem_params, data)\n",
        "    z_star, nu_star, lambda_star = sol.primal, sol.dual_eq, sol.dual_ineq\n",
        "    return z_star, (z_star, nu_star, lambda_star, data)\n",
        "\n",
        "@partial(jax.jit, static_argnames=[\"shapes\"])\n",
        "def _compute_grads(opt_solution, data, shapes, g):\n",
        "    z_star, nu_star, lambda_star = opt_solution\n",
        "    n_vars, n_eq, n_ineq = shapes\n",
        "    # For backward pass\n",
        "    (L, c, A, b, G, h) = data\n",
        "    Q = L @ L.T\n",
        "    M = rcat(\n",
        "        [\n",
        "            ccat([Q, G.T, A.T]),\n",
        "            ccat([D(lambda_star)@G, D(mv(G, z_star) - h), jnp.zeros((n_ineq,n_eq))]),\n",
        "            ccat([A, jnp.zeros((n_eq,n_ineq)), jnp.zeros((n_eq,n_eq))])\n",
        "            ])\n",
        "    \n",
        "    assert M.shape == (n_vars+n_eq+n_ineq, n_vars+n_eq+n_ineq)\n",
        "    g = jnp.concatenate([g, jnp.zeros_like(lambda_star), jnp.zeros_like(nu_star) ], axis=-1)\n",
        "    eq_37 = -jnp.linalg.solve( M.T, g )\n",
        "    d_z, d_lambda, d_nu = eq_37[:n_vars], eq_37[n_vars:n_vars+n_ineq], eq_37[n_vars+n_ineq:]\n",
        "    # grads_manual = compute_grads_manual(z_star, nu_star, lambda_star, data, g)\n",
        "    grad_L = L @ (outer(d_z, z_star) + outer(z_star, d_z))\n",
        "    grad_c = d_z\n",
        "    grad_A = outer(d_nu, z_star) + outer(nu_star, d_z)\n",
        "    grad_b = -d_nu\n",
        "    grad_G = outer(lambda_star, d_z) + D(lambda_star) @ outer(d_lambda, z_star)\n",
        "    grad_h = -mv(D(lambda_star), d_lambda)\n",
        "    grads = (grad_L, grad_c, grad_A, grad_b, grad_G, grad_h)\n",
        "    return grads\n",
        "\n",
        "def f_bwd(problem_params, residualdata, g):\n",
        "    (z_star, nu_star, lambda_star, data) = residualdata\n",
        "    n_vars, n_eq, n_ineq = x.shape[0], constraints[0].shape[0], constraints[1].shape[0]\n",
        "    grads = _compute_grads((z_star, nu_star, lambda_star), data, (n_vars, n_eq, n_ineq), g)\n",
        "    return (grads,)\n",
        "\n",
        "solve_QP_cvxpy.defvjp(f_fwd_cvxpy, f_bwd)\n",
        "solve_QP_jaxopt.defvjp(f_fwd_jaxopt, f_bwd)"
      ],
      "metadata": {
        "id": "WSxLzMxRPRbX"
      },
      "execution_count": 52,
      "outputs": []
    },
    {
      "cell_type": "markdown",
      "source": [
        "Create data (i.e. parameters Q, c, A, b, G, h)"
      ],
      "metadata": {
        "id": "FvWn8jctdLWE"
      }
    },
    {
      "cell_type": "code",
      "source": [
        "def get_data(n_vars, n_eq, n_ineq):\n",
        "    Q = np.random.randn(n_vars, n_vars)\n",
        "    # Q = np.zeros((n_vars, n_vars))\n",
        "    Q = Q@Q.T\n",
        "    assert np.all(np.linalg.eigvals(Q) >= 0)\n",
        "\n",
        "    # L = np.linalg.cholesky(Q)\n",
        "    L = scipy.linalg.sqrtm(Q)\n",
        "    assert np.allclose(Q, L@L.T)\n",
        "    c = np.random.randn(n_vars)\n",
        "\n",
        "    A = np.random.randn(n_eq, n_vars)\n",
        "    b = np.random.randn(n_eq)\n",
        "    G = np.random.randn(n_ineq, n_vars)\n",
        "    h = np.random.randn(n_ineq)\n",
        "\n",
        "    # G = np.eye(n_vars)\n",
        "    # h = np.zeros(n_vars)\n",
        "    return (L, c, A, b, G, h)\n",
        "\n",
        "def get_data_batch(n_vars, n_eq, n_ineq, n_batch):\n",
        "    Q = np.random.randn(n_batch, n_vars, n_vars)\n",
        "    Q = np.einsum(\"bij,bkj->bik\", Q, Q)\n",
        "    assert np.all(np.linalg.eigvals(Q[0]) >= 0)\n",
        "    L = np.stack([scipy.linalg.sqrtm(_Q) for _Q in Q], axis=0)\n",
        "\n",
        "    c = np.random.randn(n_batch, n_vars)\n",
        "    A = np.random.randn(n_batch, n_eq, n_vars)\n",
        "    b = np.random.randn(n_batch, n_eq)\n",
        "    G = np.random.randn(n_batch, n_ineq, n_vars)\n",
        "    h = np.random.randn(n_batch, n_ineq)\n",
        "\n",
        "    # G = np.stack([np.eye(n_vars) for _ in range(n_batch)], axis=0)\n",
        "    # h = np.zeros((n_batch, n_vars))\n",
        "\n",
        "    return (L, c, A, b, G, h)"
      ],
      "metadata": {
        "id": "WD6frbv7dQfh"
      },
      "execution_count": 53,
      "outputs": []
    },
    {
      "cell_type": "code",
      "source": [
        "def l_cvxpylayer(data, prob, x, params):\n",
        "    cvxpylayer = make_problem_cvxpylayer(prob, x, params)\n",
        "    z_star_layer, = solve_problem_cvxpylayer(cvxpylayer, data)\n",
        "    return jnp.sum(z_star_layer), z_star_layer\n",
        "l_cvxpylayer_value_and_grad = jax.value_and_grad(l_cvxpylayer, has_aux=True)\n",
        "\n",
        "def l_manual(data, prob, x, constraints, params):\n",
        "    z_star, nu_star, lambda_star = solve_problem_cvxpy(prob, x, constraints, params, data)\n",
        "    grad_l = jnp.concatenate([jnp.ones_like(z_star), jnp.zeros_like(lambda_star), jnp.zeros_like(nu_star)])\n",
        "    grads_manual = compute_grads_manual(z_star, nu_star, lambda_star, data, grad_l)\n",
        "    l = z_star.sum()\n",
        "    return (l, z_star), grads_manual\n",
        "\n",
        "def l_jax(data, prob, x, constraints, params):\n",
        "    z_star = solve_QP_cvxpy(data, (prob, x, constraints, params))\n",
        "    l = jnp.sum(z_star)\n",
        "    return l, z_star\n",
        "l_jax_value_and_grad = jax.value_and_grad(l_jax, has_aux=True)\n",
        "\n",
        "\n",
        "def l_jaxopt(data, qpsolver):\n",
        "    # qpsolver = qp.run\n",
        "    z_star = solve_QP_jaxopt(data, qpsolver)\n",
        "    l = jnp.sum(z_star)\n",
        "    return l, z_star\n",
        "l_jaxopt_value_and_grad = jax.value_and_grad(l_jaxopt, has_aux=True)\n",
        "qp = jaxopt.OSQP()\n",
        "qpsolver = jax.jit(qp.run)"
      ],
      "metadata": {
        "id": "9VKL7HtBJDYa"
      },
      "execution_count": 54,
      "outputs": []
    },
    {
      "cell_type": "code",
      "source": [
        "\n",
        "n_vars = 60\n",
        "n_eq = 2\n",
        "n_ineq = n_vars\n",
        "n_batch = 20\n",
        "data = get_data(n_vars, n_eq, n_ineq)\n",
        "data_batch = get_data_batch(n_vars, n_eq, n_ineq, n_batch)\n",
        "prob, x, constraints, params = make_problem_cvxpy(n_vars, n_eq, n_ineq)\n",
        "prob_batch, x_batch, constraints_batch, params_batch = make_problem_cvxpy_batch(n_vars, n_eq, n_ineq, n_batch)\n",
        "\n",
        "(_, z_star), grads_manual = l_manual(data, prob, x, constraints, params)\n",
        "(_, z_star_jax), grads_jax = l_jax_value_and_grad(data, prob, x, constraints, params)\n",
        "(_, z_star_jaxopt), grads_jaxopt = l_jaxopt_value_and_grad(data, qpsolver)\n",
        "(_, z_star_layer), grads_cvxpylayers = l_cvxpylayer_value_and_grad(data, prob, x, params)\n",
        "l_cvxpylayer_value_and_grad(data_batch, prob, x, params);\n",
        "\n",
        "\n"
      ],
      "metadata": {
        "id": "567jMQRl7QhO"
      },
      "execution_count": 62,
      "outputs": []
    },
    {
      "cell_type": "markdown",
      "source": [
        "Batch Variants"
      ],
      "metadata": {
        "id": "2s97wqUmtd-6"
      }
    },
    {
      "cell_type": "code",
      "source": [
        "# %time z_star_b_l, = solve_problem_cvxpylayer(make_problem_cvxpylayer(prob, x, params), get_data_batch(n_vars, n_eq, n_ineq, n_batch))\n",
        "# %time z_star_b_m, nu_star_b_m, lambda_star_b_m = solve_problem_cvxpy_batch(prob_batch, x_batch, constraints_batch, params_batch, get_data_batch(n_vars, n_eq, n_ineq, n_batch))"
      ],
      "metadata": {
        "id": "-a9NkATerMuu"
      },
      "execution_count": 63,
      "outputs": []
    },
    {
      "cell_type": "code",
      "source": [
        "# solve_QP(data, (prob, x, constraints, params))\n",
        "# f_fwd(data, (prob, x, constraints, params))\n",
        "# jax.jacobian(solve_QP)(data, (prob, x, constraints, params))"
      ],
      "metadata": {
        "id": "5e7xAq0UR7sc"
      },
      "execution_count": 64,
      "outputs": []
    },
    {
      "cell_type": "markdown",
      "source": [
        "Compare solutions"
      ],
      "metadata": {
        "id": "ia3FXjxgdHgV"
      }
    },
    {
      "cell_type": "code",
      "source": [
        "print(z_star.round(3))\n",
        "print(z_star_layer.round(3))\n",
        "print(z_star_jax.round(3))\n",
        "print(z_star_jaxopt.round(3))\n",
        "\n",
        "assert np.allclose(z_star, z_star_layer, atol=1e-3), np.sum(np.abs(z_star - z_star_layer))\n",
        "assert np.allclose(z_star, z_star_jax, atol=1e-3), np.sum(np.abs(z_star - z_star_jax))\n",
        "assert np.allclose(z_star, z_star_jaxopt, atol=1e-3), np.sum(np.abs(z_star - z_star_jaxopt))"
      ],
      "metadata": {
        "colab": {
          "base_uri": "https://localhost:8080/"
        },
        "id": "oBUbdN4vSzq5",
        "outputId": "f403093d-0252-417d-bfa7-610813e4d60b"
      },
      "execution_count": 65,
      "outputs": [
        {
          "output_type": "stream",
          "name": "stdout",
          "text": [
            "[ 0.381  0.509 -0.158  0.093 -0.155 -0.075 -0.448  0.073  0.144  0.008\n",
            "  0.12   0.238  0.395  0.404  0.128  0.09  -0.033 -0.44  -0.277  0.091\n",
            " -0.153  0.382 -0.208 -0.06  -0.129  0.005  0.198 -0.024  0.008 -0.075\n",
            " -0.045  0.187  0.082 -0.126 -0.162  0.058 -0.085 -0.087 -0.071 -0.407\n",
            " -0.124 -0.005  0.121 -0.255  0.046  0.051  0.386 -0.195 -0.25  -0.391\n",
            "  0.061 -0.475 -0.061 -0.096 -0.064  0.245  0.057 -0.138  0.054  0.055]\n",
            "[ 0.381  0.509 -0.158  0.093 -0.155 -0.075 -0.448  0.073  0.144  0.008\n",
            "  0.12   0.238  0.395  0.404  0.128  0.09  -0.033 -0.44  -0.277  0.091\n",
            " -0.153  0.382 -0.208 -0.06  -0.129  0.005  0.198 -0.024  0.008 -0.075\n",
            " -0.045  0.187  0.082 -0.126 -0.162  0.058 -0.085 -0.087 -0.071 -0.407\n",
            " -0.124 -0.005  0.121 -0.255  0.046  0.051  0.386 -0.195 -0.25  -0.391\n",
            "  0.061 -0.475 -0.061 -0.096 -0.064  0.245  0.057 -0.138  0.054  0.055]\n",
            "[ 0.381  0.509 -0.158  0.093 -0.155 -0.075 -0.448  0.073  0.144  0.008\n",
            "  0.12   0.238  0.395  0.404  0.128  0.09  -0.033 -0.44  -0.277  0.091\n",
            " -0.153  0.382 -0.208 -0.06  -0.129  0.005  0.198 -0.024  0.008 -0.075\n",
            " -0.045  0.187  0.082 -0.126 -0.162  0.058 -0.085 -0.087 -0.071 -0.407\n",
            " -0.124 -0.005  0.121 -0.255  0.046  0.051  0.386 -0.195 -0.25  -0.391\n",
            "  0.061 -0.475 -0.061 -0.096 -0.064  0.245  0.057 -0.138  0.054  0.055]\n",
            "[ 0.381  0.509 -0.157  0.093 -0.155 -0.075 -0.448  0.073  0.144  0.008\n",
            "  0.12   0.239  0.395  0.404  0.128  0.09  -0.033 -0.44  -0.277  0.091\n",
            " -0.153  0.382 -0.208 -0.06  -0.129  0.005  0.198 -0.024  0.008 -0.075\n",
            " -0.045  0.187  0.082 -0.126 -0.162  0.058 -0.085 -0.087 -0.071 -0.407\n",
            " -0.124 -0.005  0.121 -0.255  0.046  0.051  0.386 -0.195 -0.25  -0.391\n",
            "  0.061 -0.475 -0.061 -0.096 -0.064  0.245  0.057 -0.138  0.054  0.055]\n"
          ]
        }
      ]
    },
    {
      "cell_type": "markdown",
      "source": [
        "Test Gradients"
      ],
      "metadata": {
        "id": "2cClaGATc1Aq"
      }
    },
    {
      "cell_type": "code",
      "source": [
        "# Test gradients\n",
        "eps = 1e-1\n",
        "\n",
        "def f_c(_c):\n",
        "    (L, c, A, b, G, h) = data\n",
        "    data_new = (L, _c, A, b, G, h)\n",
        "    return l_manual(data_new, prob, x, constraints, params)[0][0]\n",
        "\n",
        "def f_b(_b):\n",
        "    (L, c, A, b, G, h) = data\n",
        "    data_new = (L, c, A, _b, G, h)\n",
        "    return l_manual(data_new, prob, x, constraints, params)[0][0]\n",
        "\n",
        "def f_h(_h):\n",
        "    (L, c, A, b, G, h) = data\n",
        "    data_new = (L, c, A, b, G, _h)\n",
        "    return l_manual(data_new, prob, x, constraints, params)[0][0]\n",
        "\n",
        "def f_G(_G):\n",
        "    (L, c, A, b, G, h) = data\n",
        "    data_new = (L, c, A, b, _G, h)\n",
        "    return l_manual(data_new, prob, x, constraints, params)[0][0]\n",
        "\n",
        "# c\n",
        "print(grads_manual[1].round(3))\n",
        "print(grads_jax[1].round(3))\n",
        "print(grads_jaxopt[1].round(3))\n",
        "print(grads_cvxpylayers[1].round(3))\n",
        "print(np.array([((f_c(data[1]+h_c) - f_c(data[1]-h_c)) / (2*h_c + 1e-10))[i] for i, h_c in enumerate(np.eye(n_vars)*eps)]).round(3))\n",
        "print()\n",
        "print(\"======================================================\")\n",
        "\n",
        "# # b\n",
        "# print(grads_manual[3].round(3))\n",
        "# print(grads_jax[3].round(3))\n",
        "# print(grads_jaxopt[3].round(3))\n",
        "# print(grads_cvxpylayers[3].round(3))\n",
        "# print(np.array([((f_b(data[3]+h_b) - f_b(data[3]-h_b)) / (2*h_b + 1e-10))[i] for i, h_b in enumerate(np.eye(n_eq)*eps)]).round(3))\n",
        "# print()\n",
        "# print(\"======================================================\")\n",
        "\n",
        "# h\n",
        "# print(grads_manual[5].round(3))\n",
        "# print(grads_jax[5].round(3))\n",
        "# print(grads_jaxopt[5].round(3))\n",
        "# print(grads_cvxpylayers[5].round(3))\n",
        "# print(np.array([((f_h(data[5]+h_h) - f_h(data[5]-h_h)) / (2*h_h + 1e-10))[i] for i, h_h in enumerate(np.eye(n_ineq)*eps)]).round(3))\n",
        "\n",
        "# # G\n",
        "# i = 1\n",
        "# print(grads_manual[4][i].round(3))\n",
        "# print(grads_jax[4][i].round(3))\n",
        "# print(grads_jaxopt[4][i].round(3))\n",
        "# print(grads_cvxpylayers[4][i].round(3))\n",
        "\n",
        "# @lru_cache(maxsize=n_vars*n_ineq)\n",
        "# def make_h_G(i,j):\n",
        "#     h_G = np.zeros_like(data[4])\n",
        "#     h_G[i,j]+=eps\n",
        "#     return h_G\n",
        "\n",
        "# row = [((f_G(data[4]+make_h_G(i,j)) - f_G(data[4]-make_h_G(i,j))) / (2*make_h_G(i,j) + 1e-10))[i,j] for j in range(data[4].shape[1])]\n",
        "# print(np.array(row).round(3))"
      ],
      "metadata": {
        "colab": {
          "base_uri": "https://localhost:8080/"
        },
        "id": "-UoZDEm6tLbk",
        "outputId": "9753f113-85fc-4b32-f0ce-8ac8726d01d4"
      },
      "execution_count": 66,
      "outputs": [
        {
          "output_type": "stream",
          "name": "stdout",
          "text": [
            "[-0.051 -0.02  -0.11  -0.098 -0.054  0.07   0.008 -0.041 -0.133 -0.022\n",
            " -0.013 -0.063 -0.015 -0.076 -0.065  0.037 -0.03  -0.032 -0.001 -0.07\n",
            " -0.072  0.02  -0.027 -0.159 -0.099  0.069  0.017 -0.064 -0.028  0.006\n",
            " -0.096 -0.083 -0.148 -0.102  0.065 -0.046 -0.031  0.013 -0.005 -0.028\n",
            "  0.022 -0.056 -0.12   0.031 -0.12  -0.037 -0.07   0.053 -0.044 -0.016\n",
            " -0.015 -0.024 -0.061 -0.002 -0.018 -0.144 -0.077 -0.     0.012  0.011]\n",
            "[-0.051 -0.02  -0.11  -0.098 -0.054  0.07   0.008 -0.041 -0.133 -0.022\n",
            " -0.013 -0.063 -0.015 -0.076 -0.065  0.037 -0.03  -0.032 -0.001 -0.07\n",
            " -0.072  0.02  -0.027 -0.159 -0.099  0.069  0.017 -0.064 -0.028  0.006\n",
            " -0.096 -0.083 -0.148 -0.102  0.065 -0.046 -0.031  0.013 -0.005 -0.028\n",
            "  0.022 -0.056 -0.12   0.031 -0.12  -0.037 -0.07   0.053 -0.044 -0.016\n",
            " -0.015 -0.024 -0.061 -0.002 -0.018 -0.144 -0.077 -0.     0.012  0.011]\n",
            "[-0.051 -0.02  -0.11  -0.098 -0.054  0.07   0.008 -0.041 -0.133 -0.022\n",
            " -0.013 -0.063 -0.015 -0.076 -0.065  0.037 -0.03  -0.032 -0.001 -0.07\n",
            " -0.072  0.02  -0.027 -0.159 -0.099  0.069  0.017 -0.064 -0.028  0.006\n",
            " -0.096 -0.083 -0.148 -0.102  0.065 -0.046 -0.031  0.013 -0.005 -0.028\n",
            "  0.022 -0.056 -0.12   0.031 -0.12  -0.037 -0.07   0.053 -0.044 -0.016\n",
            " -0.015 -0.024 -0.061 -0.002 -0.018 -0.144 -0.077 -0.     0.012  0.011]\n",
            "[-0.05  -0.019 -0.111 -0.098 -0.054  0.07   0.008 -0.041 -0.132 -0.021\n",
            " -0.013 -0.063 -0.015 -0.076 -0.065  0.037 -0.03  -0.032 -0.001 -0.07\n",
            " -0.072  0.021 -0.027 -0.159 -0.099  0.069  0.017 -0.064 -0.028  0.006\n",
            " -0.096 -0.083 -0.148 -0.102  0.065 -0.046 -0.031  0.013 -0.005 -0.028\n",
            "  0.022 -0.056 -0.12   0.031 -0.12  -0.037 -0.07   0.053 -0.044 -0.017\n",
            " -0.014 -0.025 -0.061 -0.002 -0.018 -0.144 -0.077 -0.     0.012  0.011]\n",
            "[-0.051 -0.02  -0.111 -0.097 -0.054  0.07   0.008 -0.041 -0.133 -0.022\n",
            " -0.013 -0.063 -0.015 -0.076 -0.065  0.037 -0.03  -0.032 -0.    -0.07\n",
            " -0.072  0.02  -0.027 -0.159 -0.099  0.069  0.017 -0.064 -0.028  0.006\n",
            " -0.096 -0.083 -0.148 -0.102  0.065 -0.046 -0.031  0.014 -0.005 -0.028\n",
            "  0.022 -0.056 -0.12   0.031 -0.12  -0.037 -0.071  0.053 -0.044 -0.016\n",
            " -0.015 -0.025 -0.061 -0.002 -0.018 -0.145 -0.077 -0.     0.012  0.011]\n",
            "\n",
            "======================================================\n"
          ]
        }
      ]
    },
    {
      "cell_type": "markdown",
      "source": [
        "Profiling Code"
      ],
      "metadata": {
        "id": "-arG47O_cqIR"
      }
    },
    {
      "cell_type": "code",
      "source": [
        "# Unbatched data\n",
        "%timeit -n 20 (_, z_star), grads_manual = l_manual(data, prob, x, constraints, params)\n",
        "%timeit -n 20 (_, z_star_jax), grads_jax = l_jax_value_and_grad(data, prob, x, constraints, params)\n",
        "%timeit -n 20 (_, z_star_jaxopt), grads_jaxopt = l_jaxopt_value_and_grad(data, qpsolver)\n",
        "%timeit -n 20 (_, z_star_layer), grads_cvxpylayers = l_cvxpylayer_value_and_grad(data, prob, x, params)\n",
        "\n",
        "# Batched data\n",
        "%timeit -n 5 [l_manual(_data, prob, x, constraints, params) for _data in zip(*data_batch)]\n",
        "%timeit -n 5 [l_jax_value_and_grad(_data, prob, x, constraints, params) for _data in zip(*data_batch)]\n",
        "%timeit -n 5 [l_jaxopt_value_and_grad(_data, qpsolver) for _data in zip(*data_batch)]\n",
        "%timeit -n 5 (_, z_star_layer), grads_cvxpylayers = l_cvxpylayer_value_and_grad(data_batch, prob, x, params)"
      ],
      "metadata": {
        "colab": {
          "base_uri": "https://localhost:8080/"
        },
        "id": "NNILF12KsuHJ",
        "outputId": "403cb69d-1d88-4342-857c-74b495cd3eb5"
      },
      "execution_count": 61,
      "outputs": [
        {
          "output_type": "stream",
          "name": "stdout",
          "text": [
            "19.4 ms ± 662 µs per loop (mean ± std. dev. of 7 runs, 20 loops each)\n",
            "27.3 ms ± 729 µs per loop (mean ± std. dev. of 7 runs, 20 loops each)\n",
            "31.2 ms ± 11.7 ms per loop (mean ± std. dev. of 7 runs, 20 loops each)\n",
            "84.8 ms ± 12.1 ms per loop (mean ± std. dev. of 7 runs, 20 loops each)\n",
            "1.12 s ± 136 ms per loop (mean ± std. dev. of 7 runs, 5 loops each)\n",
            "1.23 s ± 127 ms per loop (mean ± std. dev. of 7 runs, 5 loops each)\n",
            "424 ms ± 120 ms per loop (mean ± std. dev. of 7 runs, 5 loops each)\n",
            "1.15 s ± 128 ms per loop (mean ± std. dev. of 7 runs, 5 loops each)\n"
          ]
        }
      ]
    },
    {
      "cell_type": "code",
      "source": [
        "# print([g.shape for g in grads_manual])\n",
        "# print([g.shape for g in grads_cvxpylayers])\n",
        "print(\"======================================================\")\n",
        "print(*[g.round(4) for g in grads_manual], sep='\\n')\n",
        "print(\"======================================================\")\n",
        "print(*[g.round(4) for g in grads_jax], sep='\\n')\n",
        "print(\"======================================================\")\n",
        "print(*[g.round(4) for g in grads_cvxpylayers], sep='\\n')\n",
        "print(\"======================================================\")\n",
        "print(*[np.sum(np.abs(g1-g2)) for g1,g2 in zip(grads_manual, grads_cvxpylayers)], sep='\\n')\n",
        "print(\"======================================================\")"
      ],
      "metadata": {
        "id": "6hgniumQpR2x"
      },
      "execution_count": null,
      "outputs": []
    },
    {
      "cell_type": "code",
      "source": [],
      "metadata": {
        "id": "W3CWd7zSVIEt"
      },
      "execution_count": null,
      "outputs": []
    }
  ]
}